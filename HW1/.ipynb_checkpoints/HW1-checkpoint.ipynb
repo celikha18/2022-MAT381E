{
 "cells": [
  {
   "cell_type": "markdown",
   "id": "d3d62751",
   "metadata": {},
   "source": [
    "# Question 1\n",
    "\n",
    "Write a python function `riemannSum` that takes 3 arguments\n",
    "\n",
    "* a pair of real numbers `(a,b)`\n",
    "* a natural number `N`\n",
    "* a real valued function `fn`\n",
    "\n",
    "The function should return the Riemann sum of the function `fn` on the interval `[a,b]` with `N` equal subintervals."
   ]
  },
  {
   "cell_type": "code",
   "execution_count": null,
   "id": "8e3ceb85",
   "metadata": {},
   "outputs": [],
   "source": []
  },
  {
   "cell_type": "markdown",
   "id": "ab783e50",
   "metadata": {},
   "source": [
    "# Question 2\n",
    "\n",
    "Istanbul municipality has a open data service, and it provides detailed information about their services. Using the data at [this link](https://data.ibb.gov.tr/dataset/sehir-hatlari-sefer-sayilari) find\n",
    "\n",
    "1. The total number of trips in 2020,\n",
    "2. The total number of trips in 2021, and\n",
    "3. The total number of trips between Rumeli and Anadolu\n",
    "\n",
    "For the third sub-assignment, you must label the stations ('iskele') as 'Rumeli' and 'Anadolu' before you make your computations. Do not use anything external programs such as excel. Create an array with the correct labels and merge it with the data you pulled.\n",
    "\n",
    "Do not download the data, and use it as a local file. Refer to my lecture as to how to pull data using `urlopen`. "
   ]
  }
 ],
 "metadata": {
  "kernelspec": {
   "display_name": "Python 3 (ipykernel)",
   "language": "python",
   "name": "python3"
  },
  "language_info": {
   "codemirror_mode": {
    "name": "ipython",
    "version": 3
   },
   "file_extension": ".py",
   "mimetype": "text/x-python",
   "name": "python",
   "nbconvert_exporter": "python",
   "pygments_lexer": "ipython3",
   "version": "3.10.2"
  }
 },
 "nbformat": 4,
 "nbformat_minor": 5
}
