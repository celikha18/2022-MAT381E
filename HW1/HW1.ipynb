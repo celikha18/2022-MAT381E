{
 "cells": [
  {
   "cell_type": "markdown",
   "id": "f27e22d1",
   "metadata": {},
   "source": [
    "# Some ground rules for the assignments:\n",
    "\n",
    "For all assignments (this one and any future assignment including the final project): \n",
    "\n",
    "* Do not download and save the data locally unless your data is very big (~TBs). I **do not** want to see you opening a local file for the data I gave you as an URL. Anything local is suspect: local files can't be trusted (they might be manipulated, changed, modified, tempered.) Refer to my lecture notes on how to pull data from an URL using `urlopen`.\n",
    "\n",
    "* All computations must be done locally within python. Nothing external: no manual input, no excel, no SQL, no java, etc.\n",
    "\n",
    "* All code has to be explained. Explain your reasoning and your choices. If you installed a third party library (including `numpy`, `scipy`, `pandas` etc), explain which part you import and what that function does etc. \n",
    "\n",
    "* Explain your code using a markdown cell. **Do not** use code comments starting with `#` to do your explanations.\n",
    "\n",
    "* Do not use `if __name__ == \"__main__\"`. EVER! If you are using that within jupyter, I am going to assume you found the solution on the internet and you cut/pasted without understanding what that peice of code did."
   ]
  },
  {
   "cell_type": "markdown",
   "id": "3515c22a",
   "metadata": {},
   "source": [
    "# Question 1\n",
    "\n",
    "Istanbul municipality has a open data service, and it provides detailed information about their services. For this question, use the data given at [this link](https://data.ibb.gov.tr/dataset/istanbul-sehir-hatlari-iskeleleri).\n",
    "\n",
    "1. Understand what the data is for. Explain what it is, what it records, what pieces it has in broad strokes. \n",
    "\n",
    "2. Data (among other things) contains geographical locations of Sea Stations ('Iskele') of Istanbul Deniz Isletmeleri boats operating in Istanbul.  Extract the locations of these stations as a pandas dataframe with 2 columns: latitudes and longitudes. The index of the dataframe has to be the station names.\n",
    "\n",
    "The data is in XML format. Do not use any external libraries other than numpy and pandas. Use `xmltodict` to convert it into a dictionary then extract the necessary parts."
   ]
  },
  {
   "cell_type": "code",
   "execution_count": null,
   "id": "56139393",
   "metadata": {},
   "outputs": [],
   "source": []
  },
  {
   "cell_type": "markdown",
   "id": "30c11673",
   "metadata": {},
   "source": [
    "# Question 2\n",
    "\n",
    "For this question we are going to use Istanbul Municipality data at [this link](https://data.ibb.gov.tr/dataset/sehir-hatlari-sefer-sayilari). Data contains Istanbul Deniz Isletmeleri route information.\n",
    "\n",
    "1. Understand what the data is for, what it records, what it contains. Explain it in broad strokes.\n",
    "2. Extract the data about the number of trips between stations.\n",
    "2. Calculate the total number of trips in 2020,\n",
    "3. Calculate the total number of trips in 2021, \n",
    "4. Which is the busiest station in 2020 and 2021?\n",
    "\n",
    "For these questions you must extract the specific data you need from the raw data. Let me be very clear: I am not interested in the numerical answer, I'd like to see your data extraction and calculation explicitly. I need to see your code with which you extract the data, see the data frame where you record the extracted data, and the code where you group and calculate the required results."
   ]
  },
  {
   "cell_type": "code",
   "execution_count": null,
   "id": "5432e4d1",
   "metadata": {},
   "outputs": [],
   "source": []
  },
  {
   "cell_type": "markdown",
   "id": "4f646083",
   "metadata": {},
   "source": [
    "# Question 3\n",
    "\n",
    "Using a different [dataset](https://data.ibb.gov.tr/dataset/istanbul-deniz-iskeleleri-yolcu-sayilari) again from Istanbul Municipality on Istanbul Deniz Isletmeleri: \n",
    "\n",
    "1. Understand what the data is for, what it records, what it contains. Explain it in broad strokes.\n",
    "2. Find out the busiest station in the years 2020 and 2021,\n",
    "3. Repeat the same calculation monthly: find the busiest stations for each month.\n",
    "4. Does your calculation of busiest stations agree with the calculation you made in Question #2? Explain.\n"
   ]
  },
  {
   "cell_type": "code",
   "execution_count": null,
   "id": "5938436c",
   "metadata": {},
   "outputs": [],
   "source": []
  }
 ],
 "metadata": {
  "kernelspec": {
   "display_name": "Python 3 (ipykernel)",
   "language": "python",
   "name": "python3"
  },
  "language_info": {
   "codemirror_mode": {
    "name": "ipython",
    "version": 3
   },
   "file_extension": ".py",
   "mimetype": "text/x-python",
   "name": "python",
   "nbconvert_exporter": "python",
   "pygments_lexer": "ipython3",
   "version": "3.10.2"
  }
 },
 "nbformat": 4,
 "nbformat_minor": 5
}
